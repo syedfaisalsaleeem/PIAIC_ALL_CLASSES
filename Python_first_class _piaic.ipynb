{
 "cells": [
  {
   "cell_type": "code",
   "execution_count": 13,
   "metadata": {},
   "outputs": [],
   "source": [
    "#ways to run python\n",
    "#online interpreter # one by one line print in python\n",
    "#cmd way\n",
    "#python is a case sensitive language\n",
    "#cmd only save\n",
    "#exit() closes the python\n",
    "#first go to the location and open in notepad and closes with cltrl +s \n",
    "#touch f1.py creates a file in linux\n",
    "#in cmd python command (python f1.py) it executes in cmd\n",
    "#intellicene nahi hoti yani p jitne functions atey hai\n",
    "#visul studio 4 \n",
    "#code . #isai sari visual studio ki files ajaye gi #is kai andar intellicence mujood hoti hai\n",
    "#magic function %load\n",
    "#the smarter way to learn python is used in the class"
   ]
  },
  {
   "cell_type": "code",
   "execution_count": 2,
   "metadata": {},
   "outputs": [
    {
     "name": "stdout",
     "output_type": "stream",
     "text": [
      "Faisal\n"
     ]
    }
   ],
   "source": [
    "string=\"faisal\"\n",
    "x=string.title()\n",
    "print(x)"
   ]
  },
  {
   "cell_type": "code",
   "execution_count": 3,
   "metadata": {},
   "outputs": [
    {
     "name": "stdout",
     "output_type": "stream",
     "text": [
      "hello world\n"
     ]
    }
   ],
   "source": [
    "print(\"hello world\")"
   ]
  },
  {
   "cell_type": "code",
   "execution_count": 18,
   "metadata": {},
   "outputs": [
    {
     "name": "stdout",
     "output_type": "stream",
     "text": [
      "hello\n",
      "12.56\n"
     ]
    }
   ],
   "source": [
    "class Car():\n",
    "    def __init__(self,radius):\n",
    "        self.radius=radius\n",
    "\n",
    "    def circle(self):\n",
    "        area=3.14*(self.radius**2)\n",
    "        return area\n",
    "    def main1(self):# why do we use self in oop\n",
    "        print(\"hello\")\n",
    "obj_1=Car(2)\n",
    "x=obj_1.circle()\n",
    "y=obj_1.main1()\n",
    "#print(obj_1.circle())\n",
    "print(x)"
   ]
  },
  {
   "cell_type": "code",
   "execution_count": 20,
   "metadata": {},
   "outputs": [
    {
     "name": "stdout",
     "output_type": "stream",
     "text": [
      "(1, 2, 3, 4)\n"
     ]
    }
   ],
   "source": [
    "tuple_1=(1,2,3,4)\n",
    "print(tuple_1)"
   ]
  },
  {
   "cell_type": "code",
   "execution_count": 21,
   "metadata": {},
   "outputs": [],
   "source": [
    "#magic function %load.py "
   ]
  },
  {
   "cell_type": "code",
   "execution_count": null,
   "metadata": {},
   "outputs": [],
   "source": [
    "# %load f1.py\n",
    "print(\"faisal\")\n",
    "print(\"saleem\")\n",
    "print(\"0331-2812064\")\n",
    "print(\"42201-3297454-9\")\n"
   ]
  },
  {
   "cell_type": "code",
   "execution_count": 27,
   "metadata": {},
   "outputs": [],
   "source": [
    "#how to check intellicence in jupyter notebook\n",
    "#pre defined functions for any language\n",
    "#functions kisi bhi repetion ko rokne kai lie use kartey hai\n",
    "#programming language sai baney hue pehly sai functions pre- defined functions\n",
    "# argument jismie koi variable passs nahi kartey hai\n",
    "# hamein check karne hai kai hamare function \n",
    "#shift tab sai pata chalta hai kai konsa konsa argument pass karney hai\n",
    "#keyword argument sep='' is a key word argument"
   ]
  },
  {
   "cell_type": "code",
   "execution_count": 28,
   "metadata": {},
   "outputs": [
    {
     "name": "stdout",
     "output_type": "stream",
     "text": [
      "faisal saleem 0331-2812064\n"
     ]
    }
   ],
   "source": [
    "print('faisal','saleem','0331-2812064')"
   ]
  },
  {
   "cell_type": "code",
   "execution_count": 30,
   "metadata": {},
   "outputs": [
    {
     "name": "stdout",
     "output_type": "stream",
     "text": [
      "faisal \n",
      "saleem \n",
      "0331-2812064\n"
     ]
    }
   ],
   "source": [
    "print('faisal','saleem','0331-2812064', sep=' \\n') #separator sab kai darmian ab \\n new line arahi hai"
   ]
  },
  {
   "cell_type": "code",
   "execution_count": 32,
   "metadata": {},
   "outputs": [
    {
     "name": "stdout",
     "output_type": "stream",
     "text": [
      "faisal*saleem*0331-2812064\n"
     ]
    }
   ],
   "source": [
    "print('faisal','saleem','0331-2812064', sep='*')#shru waley sai pehly nahi ayega or akhri mei nahi ayega beech mei ayega seperator"
   ]
  },
  {
   "cell_type": "code",
   "execution_count": 34,
   "metadata": {},
   "outputs": [
    {
     "name": "stdout",
     "output_type": "stream",
     "text": [
      "faisal\n",
      "saleem\n",
      "ok\n"
     ]
    }
   ],
   "source": [
    "print('faisal')# by default line \\n pai end hoti hai\n",
    "print('saleem')\n",
    "print('ok')"
   ]
  },
  {
   "cell_type": "code",
   "execution_count": 36,
   "metadata": {},
   "outputs": [
    {
     "name": "stdout",
     "output_type": "stream",
     "text": [
      "faisal@saleem@ok@"
     ]
    }
   ],
   "source": [
    "print('faisal',end='@')# by default line \\n pai end hoti hai\n",
    "print('saleem',end='@')\n",
    "print('ok',end='@')# ab usei har line par print nahi horaha by default \\n ka end khatam kardia"
   ]
  },
  {
   "cell_type": "code",
   "execution_count": 39,
   "metadata": {},
   "outputs": [
    {
     "name": "stdout",
     "output_type": "stream",
     "text": [
      "faisal's\n"
     ]
    }
   ],
   "source": [
    "print(\"faisal's\") # agar '  chie ho"
   ]
  },
  {
   "cell_type": "code",
   "execution_count": null,
   "metadata": {},
   "outputs": [],
   "source": [
    "print(\" '[]'faisal\")"
   ]
  },
  {
   "cell_type": "code",
   "execution_count": null,
   "metadata": {},
   "outputs": [],
   "source": [
    "print('faisal','saleem' ,sep=' ') # by default sepearator yaha tab hai usko khatam karney kailie hai"
   ]
  },
  {
   "cell_type": "markdown",
   "metadata": {},
   "source": [
    "# Data Type"
   ]
  },
  {
   "cell_type": "code",
   "execution_count": 1,
   "metadata": {},
   "outputs": [
    {
     "data": {
      "text/plain": [
       "str"
      ]
     },
     "execution_count": 1,
     "metadata": {},
     "output_type": "execute_result"
    }
   ],
   "source": [
    "a='Qasim'\n",
    "type(a)"
   ]
  },
  {
   "cell_type": "code",
   "execution_count": 2,
   "metadata": {},
   "outputs": [],
   "source": [
    "#jupyter notebook last line return karta hai"
   ]
  },
  {
   "cell_type": "code",
   "execution_count": 3,
   "metadata": {},
   "outputs": [],
   "source": [
    "#list ek sai ziada values ek hi variable mei store karney chahrahe hai"
   ]
  },
  {
   "cell_type": "code",
   "execution_count": 4,
   "metadata": {},
   "outputs": [],
   "source": [
    "#list arrar tuple index starts with 0"
   ]
  },
  {
   "cell_type": "code",
   "execution_count": 5,
   "metadata": {},
   "outputs": [
    {
     "name": "stdout",
     "output_type": "stream",
     "text": [
      "['qasim', 'mansoor']\n",
      "<class 'list'>\n"
     ]
    }
   ],
   "source": [
    "x=['qasim','mansoor']\n",
    "print(x)\n",
    "print(type(x))"
   ]
  },
  {
   "cell_type": "code",
   "execution_count": 6,
   "metadata": {},
   "outputs": [
    {
     "name": "stdout",
     "output_type": "stream",
     "text": [
      "('qasim', 'mansoor')\n",
      "<class 'tuple'>\n"
     ]
    }
   ],
   "source": [
    "x=('qasim','mansoor')\n",
    "print(x)\n",
    "print(type(x))"
   ]
  },
  {
   "cell_type": "code",
   "execution_count": 7,
   "metadata": {},
   "outputs": [],
   "source": [
    "import numpy as np"
   ]
  },
  {
   "cell_type": "code",
   "execution_count": 9,
   "metadata": {},
   "outputs": [
    {
     "name": "stdout",
     "output_type": "stream",
     "text": [
      "{'1': 'qasim', '2': 'mansoor'}\n",
      "<class 'dict'>\n"
     ]
    }
   ],
   "source": [
    "x={'1':'qasim','2':'mansoor'} # key value pair jata hai\n",
    "print(x)\n",
    "print(type(x))"
   ]
  },
  {
   "cell_type": "code",
   "execution_count": 11,
   "metadata": {},
   "outputs": [
    {
     "data": {
      "text/plain": [
       "array([1, 2, 3])"
      ]
     },
     "execution_count": 11,
     "metadata": {},
     "output_type": "execute_result"
    }
   ],
   "source": [
    "data_1=np.array([1,2,3])\n",
    "data_1"
   ]
  },
  {
   "cell_type": "code",
   "execution_count": 26,
   "metadata": {},
   "outputs": [
    {
     "data": {
      "text/plain": [
       "array([ 1.38552257,  0.11495039, -0.12784692, -0.30908275,  0.06410034,\n",
       "        0.40842812,  0.01161094])"
      ]
     },
     "execution_count": 26,
     "metadata": {},
     "output_type": "execute_result"
    }
   ],
   "source": [
    "data_1=np.random.randn(7)\n",
    "data_1"
   ]
  },
  {
   "cell_type": "code",
   "execution_count": 19,
   "metadata": {},
   "outputs": [
    {
     "data": {
      "text/plain": [
       "array([[ 0.28051472,  0.7963808 ,  1.85933786, -0.29665051,  0.78098951,\n",
       "         0.20351153]])"
      ]
     },
     "execution_count": 19,
     "metadata": {},
     "output_type": "execute_result"
    }
   ],
   "source": [
    "data_1=np.random.randn(1,6)\n",
    "data_1"
   ]
  },
  {
   "cell_type": "code",
   "execution_count": 24,
   "metadata": {},
   "outputs": [
    {
     "name": "stdout",
     "output_type": "stream",
     "text": [
      "[]\n"
     ]
    }
   ],
   "source": [
    "data_1=np.random.randn(0,6)#json format is mixed with dictionary\n",
    "print(data_1)"
   ]
  },
  {
   "cell_type": "code",
   "execution_count": 25,
   "metadata": {},
   "outputs": [
    {
     "data": {
      "text/plain": [
       "(0, 6)"
      ]
     },
     "execution_count": 25,
     "metadata": {},
     "output_type": "execute_result"
    }
   ],
   "source": [
    "data_1.shape"
   ]
  },
  {
   "cell_type": "code",
   "execution_count": 27,
   "metadata": {},
   "outputs": [],
   "source": [
    "#for two dimension in numpy use randn(1,7)\n",
    "#for one dimension in numpy use randn(7)"
   ]
  },
  {
   "cell_type": "markdown",
   "metadata": {},
   "source": [
    "# Control Flow"
   ]
  },
  {
   "cell_type": "raw",
   "metadata": {},
   "source": [
    "if logic:#bracket ki replacement ayi hai tab sai # agar logic sahi hogi to ye code chaleyga to ye control flow kehlata hai # if else ka control flow hai\n",
    "    value logic\n",
    "else:\n",
    "    value False"
   ]
  },
  {
   "cell_type": "code",
   "execution_count": 30,
   "metadata": {},
   "outputs": [
    {
     "name": "stdout",
     "output_type": "stream",
     "text": [
      "{0: -0.4517312412908522, 1: -0.2880798565392658, 2: 0.4827619678531572, 3: -0.8480947246900157, 4: -0.5139237714199016, 5: 0.2640426693616832, 6: -0.11896236444144788}\n"
     ]
    }
   ],
   "source": [
    "data = {i : np.random.randn() for i in range(7)}\n",
    "print(data) #creates a dictionary"
   ]
  },
  {
   "cell_type": "code",
   "execution_count": null,
   "metadata": {},
   "outputs": [],
   "source": []
  }
 ],
 "metadata": {
  "kernelspec": {
   "display_name": "Python 3",
   "language": "python",
   "name": "python3"
  },
  "language_info": {
   "codemirror_mode": {
    "name": "ipython",
    "version": 3
   },
   "file_extension": ".py",
   "mimetype": "text/x-python",
   "name": "python",
   "nbconvert_exporter": "python",
   "pygments_lexer": "ipython3",
   "version": "3.7.3"
  }
 },
 "nbformat": 4,
 "nbformat_minor": 2
}
